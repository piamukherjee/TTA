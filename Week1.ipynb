{
 "cells": [
  {
   "cell_type": "code",
   "execution_count": 17,
   "source": [
    "print(\"Hello World\")"
   ],
   "outputs": [
    {
     "output_type": "stream",
     "name": "stdout",
     "text": [
      "Hello World\n"
     ]
    }
   ],
   "metadata": {}
  },
  {
   "cell_type": "markdown",
   "source": [
    "Task 1:\n",
    "Write a program that does the following:\n",
    "a) Stores a random number (1-10) in a variable –see hint below.\n",
    "b) Asks a user for their name and stores this in a variable.\n",
    "c) Asks a user to guess the number between 1 and 10.\n",
    "d) Tells the user whether they have guessed correctly."
   ],
   "metadata": {}
  },
  {
   "cell_type": "code",
   "execution_count": 34,
   "source": [
    "import random\n",
    "Name = input(\"Hello! What is your name?\")\n",
    "number = random.randint(1, 10)\n",
    "print(\"Well, \" +Name +\", I am thinking of a number between 1 and 10.\")\n",
    "guess = input(\"Can you guess the number:\")\n",
    "print(\"You guessed\", int(guess))\n",
    "if int(guess) == number:\n",
    "    print(\"Good job, \" +Name +\"! You guessed my number\")\n",
    "else:\n",
    "    print(\"You got that wrong\")\n"
   ],
   "outputs": [
    {
     "output_type": "stream",
     "name": "stdout",
     "text": [
      "Well, PiaI am thinking of a number between 1 and 10.\n",
      "You guessed 1\n",
      "You got that wrong\n"
     ]
    }
   ],
   "metadata": {}
  },
  {
   "cell_type": "markdown",
   "source": [
    "Task 2\n",
    "Write a program that asks a user for their favourite number between 1 \n",
    "and 100 and then tells them a joke based on the number. You should \n",
    "use a minimum of 3 jokes."
   ],
   "metadata": {}
  },
  {
   "cell_type": "code",
   "execution_count": 37,
   "source": [
    "num = int(input(\"Hello! Please enter your favourite number between 1 and 100\"))\n",
    "if num <= 33:\n",
    "    print(\"What did one DNA say to the other?\")\n",
    "    print()\n",
    "    print(\"Do these Genes make me look fat?\")\n",
    "elif num <= 67:\n",
    "    print(\"Why did Beethoven get rid of his chicken?\")\n",
    "    print()\n",
    "    print(\"All they said was 'Bach, Bach, Bach...'\")\n",
    "else:\n",
    "    print(\"What is the difference between a cat and a comma?\")\n",
    "    print()\n",
    "    print(\"A cat has claws\")\n",
    "    print(\"at the end pf paws\")\n",
    "    print(\"A comma has a pause\")\n",
    "    print(\"at the end of a clause\")"
   ],
   "outputs": [
    {
     "output_type": "stream",
     "name": "stdout",
     "text": [
      "Why did Beethoven get rid of his chicken?\n",
      "\n",
      "All they said was 'Bach, Bach, Bach...'\n"
     ]
    }
   ],
   "metadata": {}
  },
  {
   "cell_type": "markdown",
   "source": [
    "Task 3\n",
    "Write a program that allows user to enter their favourite starter, main \n",
    "course, dessert and drink.\n",
    "Concatenate these and output a message which says –“Your favourite \n",
    "meal is  .........with a glass of....”"
   ],
   "metadata": {}
  },
  {
   "cell_type": "code",
   "execution_count": 40,
   "source": [
    "fav_starter=input(\"Please enter your favourite starter\")\n",
    "fav_main=input(\"Please enter your favourite main course\")\n",
    "fav_dessert=input(\"Please enter your favourite dessert\")\n",
    "fav_drink=input(\"Please enter you favourite drink\")\n",
    "\n",
    "print(\"Your favourite meal is\", fav_main, \" with a glass of\", fav_drink)\n",
    "print(\"A starter of\", fav_starter, \"with\", fav_dessert, \"as dessert would perfectly complement the meal.\")"
   ],
   "outputs": [
    {
     "output_type": "stream",
     "name": "stdout",
     "text": [
      "Your favourite meal is  salmon  with a glass of  wine\n",
      "prawns as starter and tiramisu as dessert.\n"
     ]
    }
   ],
   "metadata": {}
  },
  {
   "cell_type": "markdown",
   "source": [
    "Task 4\n",
    "A motorbike costs £2000 and loses 10% of its value every year. Using a \n",
    "loop, print the value of the bike every following year until it falls below \n",
    "£1000."
   ],
   "metadata": {}
  },
  {
   "cell_type": "code",
   "execution_count": 43,
   "source": [
    "bike_cost=2000\n",
    "year=0\n",
    "\n",
    "year=year+1\n",
    "bike_cost=bike_cost-0.1*bike_cost\n",
    "while bike_cost>1000:\n",
    "    print(\"After\", year, \"years, the motorbike is worth\", bike_cost)\n",
    "    year=year+1\n",
    "    bike_cost=bike_cost-0.1*bike_cost\n"
   ],
   "outputs": [
    {
     "output_type": "stream",
     "name": "stdout",
     "text": [
      "After 1 years, the motorbike is worth 1800.0\n",
      "After 2 years, the motorbike is worth 1620.0\n",
      "After 3 years, the motorbike is worth 1458.0\n",
      "After 4 years, the motorbike is worth 1312.2\n",
      "After 5 years, the motorbike is worth 1180.98\n",
      "After 6 years, the motorbike is worth 1062.882\n"
     ]
    }
   ],
   "metadata": {}
  },
  {
   "cell_type": "markdown",
   "source": [
    "Task 5\n",
    "Write a program which will ask for two numbers from a user. Then \n",
    "offer a menu to the user giving them a choice of operator:\n",
    "e.g. –Enter “a” if you want to add\n",
    "“b” if you want to subtract\n",
    "Include +, -, /, *, ** square (to the power of). Once the user has \n",
    "selected which operator they wish to use, perform the calculation."
   ],
   "metadata": {}
  },
  {
   "cell_type": "code",
   "execution_count": 45,
   "source": [
    "num1=float(input(\"Please enter a number\"))\n",
    "num2=float(input(\"Please enter another number\"))\n",
    "\n",
    "print(\"You entered\", num1, num2)\n",
    "print(\"Now enter 'a' to add\")\n",
    "print(\"'s' to subtract\")\n",
    "print(\"'d' to divide\")\n",
    "print(\"'p' to raise to the power of\")\n",
    "\n",
    "op=input(\"Please enter the desired operation\")\n",
    "if op=='a':\n",
    "    print(\"Adding the numbers, we get\", num1+num2)\n",
    "elif op=='s':\n",
    "    print(\"Subtracting the numbers, we get\", num1-num2)\n",
    "elif op=='d':\n",
    "    print(\"Dividing the numbers, we get\", num1/num2)\n",
    "    print(\"Or \", num1//num2, \"with remainder\", num1%num2)\n",
    "elif op=='p':\n",
    "    print(\"Raising the first number to the power of the second, we get\", num1**num2)    "
   ],
   "outputs": [
    {
     "output_type": "stream",
     "name": "stdout",
     "text": [
      "You entered 3.0 6.0\n",
      "Now enter 'a' to add\n",
      "'s' to subtract\n",
      "'d' to divide\n",
      "'p' to raise to the power of\n",
      "raising the first number to the power of the second, we get 729.0\n"
     ]
    }
   ],
   "metadata": {}
  }
 ],
 "metadata": {
  "orig_nbformat": 4,
  "language_info": {
   "name": "python",
   "version": "3.9.0",
   "mimetype": "text/x-python",
   "codemirror_mode": {
    "name": "ipython",
    "version": 3
   },
   "pygments_lexer": "ipython3",
   "nbconvert_exporter": "python",
   "file_extension": ".py"
  },
  "kernelspec": {
   "name": "python3",
   "display_name": "Python 3.9.0 64-bit"
  },
  "interpreter": {
   "hash": "aee8b7b246df8f9039afb4144a1f6fd8d2ca17a180786b69acc140d282b71a49"
  }
 },
 "nbformat": 4,
 "nbformat_minor": 2
}