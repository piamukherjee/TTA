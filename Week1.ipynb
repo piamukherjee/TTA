{
 "cells": [
  {
   "cell_type": "code",
   "execution_count": 17,
   "source": [
    "print(\"Hello World\")"
   ],
   "outputs": [
    {
     "output_type": "stream",
     "name": "stdout",
     "text": [
      "Hello World\n"
     ]
    }
   ],
   "metadata": {}
  },
  {
   "cell_type": "markdown",
   "source": [
    "Task 1:\n",
    "Write a program that does the following:\n",
    "a) Stores a random number (1-10) in a variable –see hint below.\n",
    "b) Asks a user for their name and stores this in a variable.\n",
    "c) Asks a user to guess the number between 1 and 10.\n",
    "d) Tells the user whether they have guessed correctly."
   ],
   "metadata": {}
  },
  {
   "cell_type": "code",
   "execution_count": 34,
   "source": [
    "import random\n",
    "Name = input(\"Hello! What is your name?\")\n",
    "number = random.randint(1, 10)\n",
    "print(\"Well, \" +Name +\", I am thinking of a number between 1 and 10.\")\n",
    "guess = input(\"Can you guess the number:\")\n",
    "print(\"You guessed\", int(guess))\n",
    "if int(guess) == number:\n",
    "    print(\"Good job, \" +Name +\"! You guessed my number\")\n",
    "else:\n",
    "    print(\"You got that wrong\")\n"
   ],
   "outputs": [
    {
     "output_type": "stream",
     "name": "stdout",
     "text": [
      "Well, PiaI am thinking of a number between 1 and 10.\n",
      "You guessed 1\n",
      "You got that wrong\n"
     ]
    }
   ],
   "metadata": {}
  },
  {
   "cell_type": "markdown",
   "source": [
    "Task 2\n",
    "Write a program that asks a user for their favourite number between 1 \n",
    "and 100 and then tells them a joke based on the number. You should \n",
    "use a minimum of 3 jokes."
   ],
   "metadata": {}
  },
  {
   "cell_type": "code",
   "execution_count": 37,
   "source": [
    "num = int(input(\"Hello! Please enter your favourite number between 1 and 100\"))\n",
    "if num <= 33:\n",
    "    print(\"What did one DNA say to the other?\")\n",
    "    print()\n",
    "    print(\"Do these Genes make me look fat?\")\n",
    "elif num <= 67:\n",
    "    print(\"Why did Beethoven get rid of his chicken?\")\n",
    "    print()\n",
    "    print(\"All they said was 'Bach, Bach, Bach...'\")\n",
    "else:\n",
    "    print(\"What is the difference between a cat and a comma?\")\n",
    "    print()\n",
    "    print(\"A cat has claws\")\n",
    "    print(\"at the end pf paws\")\n",
    "    print(\"A comma has a pause\")\n",
    "    print(\"at the end of a clause\")"
   ],
   "outputs": [
    {
     "output_type": "stream",
     "name": "stdout",
     "text": [
      "Why did Beethoven get rid of his chicken?\n",
      "\n",
      "All they said was 'Bach, Bach, Bach...'\n"
     ]
    }
   ],
   "metadata": {}
  },
  {
   "cell_type": "markdown",
   "source": [
    "Task 3\n",
    "Write a program that allows user to enter their favourite starter, main \n",
    "course, dessert and drink.\n",
    "Concatenate these and output a message which says –“Your favourite \n",
    "meal is  .........with a glass of....”"
   ],
   "metadata": {}
  },
  {
   "cell_type": "code",
   "execution_count": 40,
   "source": [
    "fav_starter=input(\"Please enter your favourite starter\")\n",
    "fav_main=input(\"Please enter your favourite main course\")\n",
    "fav_dessert=input(\"Please enter your favourite dessert\")\n",
    "fav_drink=input(\"Please enter you favourite drink\")\n",
    "\n",
    "print(\"Your favourite meal is\", fav_main, \" with a glass of\", fav_drink)\n",
    "print(\"A starter of\", fav_starter, \"with\", fav_dessert, \"as dessert would perfectly complement the meal.\")"
   ],
   "outputs": [
    {
     "output_type": "stream",
     "name": "stdout",
     "text": [
      "Your favourite meal is  salmon  with a glass of  wine\n",
      "prawns as starter and tiramisu as dessert.\n"
     ]
    }
   ],
   "metadata": {}
  },
  {
   "cell_type": "markdown",
   "source": [
    "Task 4\n",
    "A motorbike costs £2000 and loses 10% of its value every year. Using a \n",
    "loop, print the value of the bike every following year until it falls below \n",
    "£1000."
   ],
   "metadata": {}
  },
  {
   "cell_type": "code",
   "execution_count": 43,
   "source": [
    "bike_cost=2000\n",
    "year=0\n",
    "\n",
    "year=year+1\n",
    "bike_cost=bike_cost-0.1*bike_cost\n",
    "while bike_cost>1000:\n",
    "    print(\"After\", year, \"years, the motorbike is worth\", bike_cost)\n",
    "    year=year+1\n",
    "    bike_cost=bike_cost-0.1*bike_cost\n"
   ],
   "outputs": [
    {
     "output_type": "stream",
     "name": "stdout",
     "text": [
      "After 1 years, the motorbike is worth 1800.0\n",
      "After 2 years, the motorbike is worth 1620.0\n",
      "After 3 years, the motorbike is worth 1458.0\n",
      "After 4 years, the motorbike is worth 1312.2\n",
      "After 5 years, the motorbike is worth 1180.98\n",
      "After 6 years, the motorbike is worth 1062.882\n"
     ]
    }
   ],
   "metadata": {}
  },
  {
   "cell_type": "markdown",
   "source": [
    "Task 5\n",
    "Write a program which will ask for two numbers from a user. Then \n",
    "offer a menu to the user giving them a choice of operator:\n",
    "e.g. –Enter “a” if you want to add\n",
    "“b” if you want to subtract\n",
    "Include +, -, /, *, ** square (to the power of). Once the user has \n",
    "selected which operator they wish to use, perform the calculation."
   ],
   "metadata": {}
  },
  {
   "cell_type": "code",
   "execution_count": 45,
   "source": [
    "num1=float(input(\"Please enter a number\"))\n",
    "num2=float(input(\"Please enter another number\"))\n",
    "\n",
    "print(\"You entered\", num1, num2)\n",
    "print(\"Now enter 'a' to add\")\n",
    "print(\"'s' to subtract\")\n",
    "print(\"'d' to divide\")\n",
    "print(\"'p' to raise to the power of\")\n",
    "\n",
    "op=input(\"Please enter the desired operation\")\n",
    "if op=='a':\n",
    "    print(\"Adding the numbers, we get\", num1+num2)\n",
    "elif op=='s':\n",
    "    print(\"Subtracting the numbers, we get\", num1-num2)\n",
    "elif op=='d':\n",
    "    print(\"Dividing the numbers, we get\", num1/num2)\n",
    "    print(\"Or \", num1//num2, \"with remainder\", num1%num2)\n",
    "elif op=='p':\n",
    "    print(\"Raising the first number to the power of the second, we get\", num1**num2)    "
   ],
   "outputs": [
    {
     "output_type": "stream",
     "name": "stdout",
     "text": [
      "You entered 3.0 6.0\n",
      "Now enter 'a' to add\n",
      "'s' to subtract\n",
      "'d' to divide\n",
      "'p' to raise to the power of\n",
      "raising the first number to the power of the second, we get 729.0\n"
     ]
    }
   ],
   "metadata": {}
  },
  {
   "cell_type": "markdown",
   "source": [
    "Create your own Flow Diagram, a subject of your \n",
    "own choice, Example: Fast food order and convert it \n",
    "into code."
   ],
   "metadata": {}
  },
  {
   "cell_type": "markdown",
   "source": [
    "Finding whether a given number is prime:\n",
    "\n",
    "1. get number as input from user - call it n\n",
    "2. Find the square root of the number - call it sqrt_of_n\n",
    "3. Consider all integers from 2 to sqrt_of_n in turn. Start loop. \n",
    "          4. If any of these divides n without a remainder it is a factor. Come out of loop and print \"number is not prime\"\n",
    "5. If the loop has not been exited till the end print \"number is prime\"\n"
   ],
   "metadata": {}
  },
  {
   "cell_type": "code",
   "execution_count": 59,
   "source": [
    "from IPython import display\n",
    "display.Image(\"Flowchart-prime.jpeg\")"
   ],
   "outputs": [
    {
     "output_type": "execute_result",
     "data": {
      "image/jpeg": "[encoded data removed]",
      "text/plain": [
       "<IPython.core.display.Image object>"
      ]
     },
     "metadata": {},
     "execution_count": 59
    }
   ],
   "metadata": {}
  },
  {
   "cell_type": "code",
   "execution_count": 46,
   "source": [
    "import numpy as np\n",
    "n = int(input(\"Please enter a number. I will tell you if it is a prime number.\"))\n",
    "sqrt_of_n = np.sqrt(n)\n",
    "is_prime=True\n",
    "for i in range(2,int(sqrt_of_n)):\n",
    "    if n%i ==0:\n",
    "        is_prime=False\n",
    "        break\n",
    "if (is_prime):\n",
    "    print(\"The number \", n, \"is a prime number\")\n",
    "else:\n",
    "    print(\"The number \", n, \"is not prime\")\n"
   ],
   "outputs": [
    {
     "output_type": "stream",
     "name": "stdout",
     "text": [
      "the number  478 is not prime\n"
     ]
    }
   ],
   "metadata": {}
  },
  {
   "cell_type": "markdown",
   "source": [
    "As an extension to the motorbike task that costs \n",
    "£2000 and loses 10% of its value every year. Set up \n",
    "a function that performs the calculation by passing \n",
    "in parameters. Then using a loop, print the value of \n",
    "the bike every following year until it falls below \n",
    "£1000."
   ],
   "metadata": {}
  },
  {
   "cell_type": "code",
   "execution_count": 48,
   "source": [
    "def calcnewcost(cost, loss):\n",
    "    return cost-loss*cost\n",
    "\n",
    "cost=2000\n",
    "loss=0.1\n",
    "year = 0\n",
    "\n",
    "while cost>1000: \n",
    "    print(\"The value of the motorbike after\", year, \"years is  \", cost)\n",
    "    year+=1\n",
    "    cost = calcnewcost(cost,loss)   "
   ],
   "outputs": [
    {
     "output_type": "stream",
     "name": "stdout",
     "text": [
      "The value of the motorbike after 0 years is   2000\n",
      "The value of the motorbike after 1 years is   1800.0\n",
      "The value of the motorbike after 2 years is   1620.0\n",
      "The value of the motorbike after 3 years is   1458.0\n",
      "The value of the motorbike after 4 years is   1312.2\n",
      "The value of the motorbike after 5 years is   1180.98\n",
      "The value of the motorbike after 6 years is   1062.882\n"
     ]
    }
   ],
   "metadata": {}
  },
  {
   "cell_type": "markdown",
   "source": [
    "Write a program which will ask for two numbers \n",
    "from a user. Then offer an option menu to the user \n",
    "giving them a choice of maths operators. Once the \n",
    "user has selected which operator they wish to use, \n",
    "perform the calculation by using a procedure and \n",
    "passing parameters."
   ],
   "metadata": {}
  },
  {
   "cell_type": "code",
   "execution_count": 57,
   "source": [
    "def procedure_math(op,n,m):\n",
    "    if op=='a':\n",
    "        print(\"Adding the numbers, we get\", n+m)\n",
    "    elif op=='s':\n",
    "        print(\"Subtracting the numbers, we get\", n-m)\n",
    "    elif op=='d':\n",
    "        print(\"Dividing the numbers, we get\", n/m)\n",
    "        print(\"Or \", n//m, \"with remainder\", n%m)\n",
    "    elif op=='p':\n",
    "        print(\"Raising the first number to the power of the second, we get\", n**m)\n"
   ],
   "outputs": [],
   "metadata": {}
  },
  {
   "cell_type": "code",
   "execution_count": 58,
   "source": [
    "num1=float(input(\"Please enter a number\"))\n",
    "num2=float(input(\"Please enter another number\"))\n",
    "print(\"You entered\", num1, num2)\n",
    "\n",
    "print(\"Now enter 'a' to add\")\n",
    "print(\"'s' to subtract\")\n",
    "print(\"'d' to divide\")\n",
    "print(\"'p' to raise to the power of\")\n",
    "op=input(\"Please enter the desired operation\")\n",
    "print(\"you entered\", op)\n",
    "\n",
    "procedure_math(op,num1,num2)\n"
   ],
   "outputs": [
    {
     "output_type": "stream",
     "name": "stdout",
     "text": [
      "You entered 45.0 89.0\n",
      "Now enter 'a' to add\n",
      "'s' to subtract\n",
      "'d' to divide\n",
      "'p' to raise to the power of\n",
      "Dividing the numbers, we get 0.5056179775280899\n",
      "Or  0.0 with remainder 45.0\n"
     ]
    }
   ],
   "metadata": {}
  },
  {
   "cell_type": "markdown",
   "source": [
    "Task 1\n",
    "Write a program that allows you to enter 4 numbers \n",
    "and stores them in a file called “Numbers”\n",
    "•3\n",
    "•45\n",
    "•83\n",
    "•21\n",
    "Have a go at ‘w’ ‘r’  ‘a’"
   ],
   "metadata": {}
  },
  {
   "cell_type": "code",
   "execution_count": 62,
   "source": [
    "my_file = open(\"Numbers.txt\", \"w\")\n",
    "for i in range(4):\n",
    "    num=input(\"Please input a number to save to file 'Numbers'\")\n",
    "    my_file.write(num)\n",
    "    my_file.write(\"\\n\")\n",
    "my_file.close()\n",
    "\n",
    "with open(\"Numbers.txt\",'r') as myfile:\n",
    "    data=myfile.read().replace('/n',',')\n",
    "myfile.close()\n",
    "print(data)\n",
    "\n",
    "myfile = open(\"Numbers.txt\", \"a\")\n",
    "myfile.write(str(17))\n",
    "myfile.write(\"That is my list of numbers\")\n",
    "myfile.close()"
   ],
   "outputs": [
    {
     "output_type": "stream",
     "name": "stdout",
     "text": [
      "3\n",
      "45\n",
      "83\n",
      "21\n",
      "\n"
     ]
    }
   ],
   "metadata": {}
  },
  {
   "cell_type": "markdown",
   "source": [
    "Task 2\n",
    "Write a program to ask a student for their percentage mark and \n",
    "convert this to a grade. The conversion will be done in a function \n",
    "called mark_grade.\n",
    "\n",
    "Extension to Task 2\n",
    "•Ask the user for their target grade and print this with their mark\n",
    "•If their target grade > exam grade display a suitable message\n",
    "•If their target grade = exam grade display a suitable message\n",
    "•If their target grade < exam grade display a suitable message"
   ],
   "metadata": {}
  },
  {
   "cell_type": "code",
   "execution_count": 99,
   "source": [
    "def mark_grade(mark):\n",
    "    if mark>90:\n",
    "        grade = 'A'\n",
    "    elif mark>80:\n",
    "        grade = 'B'\n",
    "    elif mark>70:\n",
    "        grade = 'C'\n",
    "    elif mark>60:\n",
    "        grade = 'D'\n",
    "    elif mark>50:\n",
    "        grade ='E' \n",
    "    else: \n",
    "        grade='F'\n",
    "    return grade              \n",
    "\n",
    "\n",
    "grade_order=['A','B','C','D','E','F']\n",
    "myfile=open(\"grades.txt\",'w')\n",
    "for i in range(3):\n",
    "    name, mark, target_grade=input(\"Please enter your name, % mark and target grade\").split()\n",
    "    exam_grade=mark_grade(int(mark))\n",
    "    loc_exam_grade=grade_order.index(exam_grade)\n",
    "    loc_target_grade=grade_order.index(target_grade)\n",
    "\n",
    "    if loc_target_grade<loc_exam_grade:\n",
    "        message=\"Work harder to achieve your target grade\"\n",
    "        print(name+',', message)\n",
    "    elif loc_target_grade>loc_exam_grade:\n",
    "        message=\"Well done! You exceeded your target grade\"\n",
    "        print(name+',', message)\n",
    "    else:\n",
    "        message=\"You have achieved your target grade, well done!\"\n",
    "        print(name+',', message)\n",
    "\n",
    "    myfile.write(name+\" \"+str(mark)+\" \"+exam_grade+\" \"+target_grade+\" \"+\"\\n\")\n",
    "    \n",
    "\n",
    "myfile.close()\n",
    "\n"
   ],
   "outputs": [
    {
     "output_type": "stream",
     "name": "stdout",
     "text": [
      "Pia, You have achieved your target grade, well done!\n",
      "Tia, You have achieved your target grade, well done!\n",
      "Dia, Work harder to achieve your target grade\n"
     ]
    }
   ],
   "metadata": {}
  },
  {
   "cell_type": "code",
   "execution_count": 100,
   "source": [
    "f = open ( 'grades.txt' , 'r')\n",
    "data=[line.split() for line in f]\n",
    "print(data)"
   ],
   "outputs": [
    {
     "output_type": "stream",
     "name": "stdout",
     "text": [
      "[['Pia', '91', 'A', 'A'], ['Tia', '78', 'C', 'C'], ['Dia', '56', 'E', 'D']]\n"
     ]
    }
   ],
   "metadata": {}
  },
  {
   "cell_type": "markdown",
   "source": [],
   "metadata": {}
  }
 ],
 "metadata": {
  "orig_nbformat": 4,
  "language_info": {
   "name": "python",
   "version": "3.9.0",
   "mimetype": "text/x-python",
   "codemirror_mode": {
    "name": "ipython",
    "version": 3
   },
   "pygments_lexer": "ipython3",
   "nbconvert_exporter": "python",
   "file_extension": ".py"
  },
  "kernelspec": {
   "name": "python3",
   "display_name": "Python 3.9.0 64-bit"
  },
  "interpreter": {
   "hash": "aee8b7b246df8f9039afb4144a1f6fd8d2ca17a180786b69acc140d282b71a49"
  }
 },
 "nbformat": 4,
 "nbformat_minor": 2
}