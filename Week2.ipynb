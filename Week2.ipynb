{
 "cells": [
  {
   "cell_type": "code",
   "execution_count": 2,
   "source": [
    "import numpy as np"
   ],
   "outputs": [],
   "metadata": {}
  },
  {
   "cell_type": "markdown",
   "source": [
    "1. Create a 1D array of numbers from 0 to 9"
   ],
   "metadata": {}
  },
  {
   "cell_type": "code",
   "execution_count": 3,
   "source": [
    "array=np.arange(10)\n",
    "array"
   ],
   "outputs": [
    {
     "output_type": "execute_result",
     "data": {
      "text/plain": [
       "array([0, 1, 2, 3, 4, 5, 6, 7, 8, 9])"
      ]
     },
     "metadata": {},
     "execution_count": 3
    }
   ],
   "metadata": {}
  },
  {
   "cell_type": "markdown",
   "source": [
    "2. Create a 3×3 NumPy array of all Boolean value Trues"
   ],
   "metadata": {}
  },
  {
   "cell_type": "code",
   "execution_count": 7,
   "source": [
    "array=np.zeros((3,3))\n",
    "bool_arr = array<1\n",
    "bool_arr"
   ],
   "outputs": [
    {
     "output_type": "execute_result",
     "data": {
      "text/plain": [
       "array([[ True,  True,  True],\n",
       "       [ True,  True,  True],\n",
       "       [ True,  True,  True]])"
      ]
     },
     "metadata": {},
     "execution_count": 7
    }
   ],
   "metadata": {}
  },
  {
   "cell_type": "markdown",
   "source": [
    "3. Extract all odd numbers from array of 1 10"
   ],
   "metadata": {}
  },
  {
   "cell_type": "code",
   "execution_count": 16,
   "source": [
    "array=np.arange(11)\n",
    "odd_arr=array[array%2!=0]\n",
    "odd_arr\n"
   ],
   "outputs": [
    {
     "output_type": "execute_result",
     "data": {
      "text/plain": [
       "array([1, 3, 5, 7, 9])"
      ]
     },
     "metadata": {},
     "execution_count": 16
    }
   ],
   "metadata": {}
  },
  {
   "cell_type": "code",
   "execution_count": 17,
   "source": [
    "even_arr=array[array%2==0]\n",
    "even_arr"
   ],
   "outputs": [
    {
     "output_type": "execute_result",
     "data": {
      "text/plain": [
       "array([ 0,  2,  4,  6,  8, 10])"
      ]
     },
     "metadata": {},
     "execution_count": 17
    }
   ],
   "metadata": {}
  },
  {
   "cell_type": "markdown",
   "source": [
    "4. Replace all odd numbers in an array of 1 10 with the value 1"
   ],
   "metadata": {}
  },
  {
   "cell_type": "code",
   "execution_count": 37,
   "source": [
    "array[array%2!=0]=-1\n",
    "odd_replaced=array\n",
    "print(odd_replaced)"
   ],
   "outputs": [
    {
     "output_type": "stream",
     "name": "stdout",
     "text": [
      "[ 0 -1  2 -1  4 -1  6 -1  8 -1]\n"
     ]
    }
   ],
   "metadata": {}
  },
  {
   "cell_type": "markdown",
   "source": [
    "5. Convert a 1D array to a 2D array with 2 rows"
   ],
   "metadata": {}
  },
  {
   "cell_type": "code",
   "execution_count": 36,
   "source": [
    "array=np.arange(10)\n",
    "array.reshape(2,5)"
   ],
   "outputs": [
    {
     "output_type": "execute_result",
     "data": {
      "text/plain": [
       "array([[0, 1, 2, 3, 4],\n",
       "       [5, 6, 7, 8, 9]])"
      ]
     },
     "metadata": {},
     "execution_count": 36
    }
   ],
   "metadata": {}
  },
  {
   "cell_type": "markdown",
   "source": [
    "6. Create two arrays a and b, stack these two arrays vertically use the np.dot and\n",
    "np.sum to calculate totals"
   ],
   "metadata": {}
  },
  {
   "cell_type": "code",
   "execution_count": 44,
   "source": [
    "a = np.arange(1,10).reshape(3,3)\n",
    "b = np.arange(10,19).reshape(3,3)\n",
    "print(np.dot(a,b))\n",
    "c = np.vstack((a,b))\n",
    "print(c)\n",
    "e = np.sum(c, axis = 0)\n",
    "print(\"np.sum(c, axis=0)=\",e)\n",
    "f = np.sum(c, axis = 1)\n",
    "print(\"np.sum(c, axis=1)=\",f)"
   ],
   "outputs": [
    {
     "output_type": "stream",
     "name": "stdout",
     "text": [
      "[[ 84  90  96]\n",
      " [201 216 231]\n",
      " [318 342 366]]\n",
      "[[ 1  2  3]\n",
      " [ 4  5  6]\n",
      " [ 7  8  9]\n",
      " [10 11 12]\n",
      " [13 14 15]\n",
      " [16 17 18]]\n",
      "np.sum(c, axis=0)= [51 57 63]\n",
      "np.sum(c, axis=1)= [ 6 15 24 33 42 51]\n"
     ]
    }
   ],
   "metadata": {}
  },
  {
   "cell_type": "markdown",
   "source": [
    "Extension\n",
    "1. Create the following pattern without hardcoding. Use only NumPy functions"
   ],
   "metadata": {}
  },
  {
   "cell_type": "code",
   "execution_count": 74,
   "source": [
    "list=[1,2,3]\n",
    "a=np.array(list)\n",
    "b=np.transpose(np.vstack((a,a,a))).flatten()\n",
    "c=np.hstack((a,a,a))\n",
    "d=np.append(b,c)\n",
    "print(d)"
   ],
   "outputs": [
    {
     "output_type": "stream",
     "name": "stdout",
     "text": [
      "[1 1 1 2 2 2 3 3 3 1 2 3 1 2 3 1 2 3]\n"
     ]
    }
   ],
   "metadata": {}
  },
  {
   "cell_type": "code",
   "execution_count": 92,
   "source": [
    "# Or this is an easier way\n",
    "a=np.array([1,2,3])\n",
    "np.concatenate((np.repeat(a,3, axis=0),np.hstack((a,a,a))))"
   ],
   "outputs": [
    {
     "output_type": "execute_result",
     "data": {
      "text/plain": [
       "array([1, 1, 1, 2, 2, 2, 3, 3, 3, 1, 2, 3, 1, 2, 3, 1, 2, 3])"
      ]
     },
     "metadata": {},
     "execution_count": 92
    }
   ],
   "metadata": {}
  },
  {
   "cell_type": "markdown",
   "source": [
    "2. In two arrays a ( 1,2,3,4,5) and b ( 4,5,6,7,8,9) remove all repeating items present in array b"
   ],
   "metadata": {}
  },
  {
   "cell_type": "code",
   "execution_count": 84,
   "source": [
    "a=np.array([1,2,3,4,5])\n",
    "b=np.array([4,5,6,7,8,9])\n",
    "commonelements, a_ind, b_ind = np.intersect1d(a,b,return_indices=True)\n",
    "newb=np.delete(b,b_ind)\n",
    "newb"
   ],
   "outputs": [
    {
     "output_type": "execute_result",
     "data": {
      "text/plain": [
       "array([6, 7, 8, 9])"
      ]
     },
     "metadata": {},
     "execution_count": 84
    }
   ],
   "metadata": {}
  },
  {
   "cell_type": "markdown",
   "source": [
    "3. Get all items between 3 and 7 from a and b and sum them together"
   ],
   "metadata": {}
  },
  {
   "cell_type": "code",
   "execution_count": 91,
   "source": [
    "np.sum(np.where((a>3) & (a<7)))+np.sum(np.where((b>3) & (b<7)))"
   ],
   "outputs": [
    {
     "output_type": "execute_result",
     "data": {
      "text/plain": [
       "10"
      ]
     },
     "metadata": {},
     "execution_count": 91
    }
   ],
   "metadata": {}
  },
  {
   "cell_type": "markdown",
   "source": [
    "Pandas\n",
    "\n",
    "Notes from class: create a dataframe either from a dictionary or just from a set of values\n",
    "e.g. pd.DataFrame([[num1,num2], [n1, n2], [m1,m2]], index=['i1','i2','i3'], columns=''c1','c2'])\n",
    "data.shape\n",
    "data.loc[\"--\"]\n",
    "\n",
    "data['col name'].mean() or just data.mean()\n",
    "filter = data['col name']>8\n",
    "filter.head()\n",
    "highscore=data[filter]\n",
    "filter = data['col name']>8 & data['col name2']='ipad'\n",
    "selected_data=data[filter]\n",
    "data.groupby('species').mean().plot.bar()\n",
    "data.groupby('species').count().plot.pie()\n",
    "data.plot()\n",
    "data.hist()\n",
    "df.plot.kde()\n",
    "df.plot.box()\n",
    "scatter_matrix(data)\n"
   ],
   "metadata": {}
  },
  {
   "cell_type": "markdown",
   "source": [
    "Home Learning Task for Pandas"
   ],
   "metadata": {}
  },
  {
   "cell_type": "code",
   "execution_count": 190,
   "source": [
    "import pandas as pd\n",
    "data=pd.read_csv(\"Holidays.csv\")\n",
    "data.shape"
   ],
   "outputs": [
    {
     "output_type": "execute_result",
     "data": {
      "text/plain": [
       "(15, 5)"
      ]
     },
     "metadata": {},
     "execution_count": 190
    }
   ],
   "metadata": {}
  },
  {
   "cell_type": "code",
   "execution_count": 191,
   "source": [
    "data.loc[3:8]"
   ],
   "outputs": [
    {
     "output_type": "execute_result",
     "data": {
      "text/html": [
       "<div>\n",
       "<style scoped>\n",
       "    .dataframe tbody tr th:only-of-type {\n",
       "        vertical-align: middle;\n",
       "    }\n",
       "\n",
       "    .dataframe tbody tr th {\n",
       "        vertical-align: top;\n",
       "    }\n",
       "\n",
       "    .dataframe thead th {\n",
       "        text-align: right;\n",
       "    }\n",
       "</style>\n",
       "<table border=\"1\" class=\"dataframe\">\n",
       "  <thead>\n",
       "    <tr style=\"text-align: right;\">\n",
       "      <th></th>\n",
       "      <th>Destination</th>\n",
       "      <th>Feedback score</th>\n",
       "      <th>Average Hotel rating</th>\n",
       "      <th>Number of All-inclusive Hotels</th>\n",
       "      <th>Most visited city</th>\n",
       "    </tr>\n",
       "  </thead>\n",
       "  <tbody>\n",
       "    <tr>\n",
       "      <th>3</th>\n",
       "      <td>Thailand</td>\n",
       "      <td>8.5</td>\n",
       "      <td>4.5</td>\n",
       "      <td>10</td>\n",
       "      <td>Bangkok</td>\n",
       "    </tr>\n",
       "    <tr>\n",
       "      <th>4</th>\n",
       "      <td>Australia</td>\n",
       "      <td>7.2</td>\n",
       "      <td>3.5</td>\n",
       "      <td>2</td>\n",
       "      <td>Sydney</td>\n",
       "    </tr>\n",
       "    <tr>\n",
       "      <th>5</th>\n",
       "      <td>France</td>\n",
       "      <td>9.0</td>\n",
       "      <td>2.2</td>\n",
       "      <td>4</td>\n",
       "      <td>Paris</td>\n",
       "    </tr>\n",
       "    <tr>\n",
       "      <th>6</th>\n",
       "      <td>Austria</td>\n",
       "      <td>7.0</td>\n",
       "      <td>2.4</td>\n",
       "      <td>0</td>\n",
       "      <td>Vienna</td>\n",
       "    </tr>\n",
       "    <tr>\n",
       "      <th>7</th>\n",
       "      <td>Switzerland</td>\n",
       "      <td>6.5</td>\n",
       "      <td>3.1</td>\n",
       "      <td>0</td>\n",
       "      <td>Geneva</td>\n",
       "    </tr>\n",
       "    <tr>\n",
       "      <th>8</th>\n",
       "      <td>Spain</td>\n",
       "      <td>6.5</td>\n",
       "      <td>3.4</td>\n",
       "      <td>10</td>\n",
       "      <td>Barcelona</td>\n",
       "    </tr>\n",
       "  </tbody>\n",
       "</table>\n",
       "</div>"
      ],
      "text/plain": [
       "   Destination  Feedback score  Average Hotel rating  \\\n",
       "3     Thailand             8.5                   4.5   \n",
       "4    Australia             7.2                   3.5   \n",
       "5       France             9.0                   2.2   \n",
       "6      Austria             7.0                   2.4   \n",
       "7  Switzerland             6.5                   3.1   \n",
       "8        Spain             6.5                   3.4   \n",
       "\n",
       "   Number of All-inclusive Hotels Most visited city  \n",
       "3                              10           Bangkok  \n",
       "4                               2            Sydney  \n",
       "5                               4             Paris  \n",
       "6                               0            Vienna  \n",
       "7                               0            Geneva  \n",
       "8                              10         Barcelona  "
      ]
     },
     "metadata": {},
     "execution_count": 191
    }
   ],
   "metadata": {}
  },
  {
   "cell_type": "code",
   "execution_count": 192,
   "source": [
    "data.iloc[3:9]"
   ],
   "outputs": [
    {
     "output_type": "execute_result",
     "data": {
      "text/html": [
       "<div>\n",
       "<style scoped>\n",
       "    .dataframe tbody tr th:only-of-type {\n",
       "        vertical-align: middle;\n",
       "    }\n",
       "\n",
       "    .dataframe tbody tr th {\n",
       "        vertical-align: top;\n",
       "    }\n",
       "\n",
       "    .dataframe thead th {\n",
       "        text-align: right;\n",
       "    }\n",
       "</style>\n",
       "<table border=\"1\" class=\"dataframe\">\n",
       "  <thead>\n",
       "    <tr style=\"text-align: right;\">\n",
       "      <th></th>\n",
       "      <th>Destination</th>\n",
       "      <th>Feedback score</th>\n",
       "      <th>Average Hotel rating</th>\n",
       "      <th>Number of All-inclusive Hotels</th>\n",
       "      <th>Most visited city</th>\n",
       "    </tr>\n",
       "  </thead>\n",
       "  <tbody>\n",
       "    <tr>\n",
       "      <th>3</th>\n",
       "      <td>Thailand</td>\n",
       "      <td>8.5</td>\n",
       "      <td>4.5</td>\n",
       "      <td>10</td>\n",
       "      <td>Bangkok</td>\n",
       "    </tr>\n",
       "    <tr>\n",
       "      <th>4</th>\n",
       "      <td>Australia</td>\n",
       "      <td>7.2</td>\n",
       "      <td>3.5</td>\n",
       "      <td>2</td>\n",
       "      <td>Sydney</td>\n",
       "    </tr>\n",
       "    <tr>\n",
       "      <th>5</th>\n",
       "      <td>France</td>\n",
       "      <td>9.0</td>\n",
       "      <td>2.2</td>\n",
       "      <td>4</td>\n",
       "      <td>Paris</td>\n",
       "    </tr>\n",
       "    <tr>\n",
       "      <th>6</th>\n",
       "      <td>Austria</td>\n",
       "      <td>7.0</td>\n",
       "      <td>2.4</td>\n",
       "      <td>0</td>\n",
       "      <td>Vienna</td>\n",
       "    </tr>\n",
       "    <tr>\n",
       "      <th>7</th>\n",
       "      <td>Switzerland</td>\n",
       "      <td>6.5</td>\n",
       "      <td>3.1</td>\n",
       "      <td>0</td>\n",
       "      <td>Geneva</td>\n",
       "    </tr>\n",
       "    <tr>\n",
       "      <th>8</th>\n",
       "      <td>Spain</td>\n",
       "      <td>6.5</td>\n",
       "      <td>3.4</td>\n",
       "      <td>10</td>\n",
       "      <td>Barcelona</td>\n",
       "    </tr>\n",
       "  </tbody>\n",
       "</table>\n",
       "</div>"
      ],
      "text/plain": [
       "   Destination  Feedback score  Average Hotel rating  \\\n",
       "3     Thailand             8.5                   4.5   \n",
       "4    Australia             7.2                   3.5   \n",
       "5       France             9.0                   2.2   \n",
       "6      Austria             7.0                   2.4   \n",
       "7  Switzerland             6.5                   3.1   \n",
       "8        Spain             6.5                   3.4   \n",
       "\n",
       "   Number of All-inclusive Hotels Most visited city  \n",
       "3                              10           Bangkok  \n",
       "4                               2            Sydney  \n",
       "5                               4             Paris  \n",
       "6                               0            Vienna  \n",
       "7                               0            Geneva  \n",
       "8                              10         Barcelona  "
      ]
     },
     "metadata": {},
     "execution_count": 192
    }
   ],
   "metadata": {}
  },
  {
   "cell_type": "code",
   "execution_count": 193,
   "source": [
    "data['Number of All-inclusive Hotels'].mean()"
   ],
   "outputs": [
    {
     "output_type": "execute_result",
     "data": {
      "text/plain": [
       "5.066666666666666"
      ]
     },
     "metadata": {},
     "execution_count": 193
    }
   ],
   "metadata": {}
  },
  {
   "cell_type": "code",
   "execution_count": 194,
   "source": [
    "filter=data['Feedback score']==data['Feedback score'].min()\n",
    "data[filter]['Destination']"
   ],
   "outputs": [
    {
     "output_type": "execute_result",
     "data": {
      "text/plain": [
       "0    India\n",
       "Name: Destination, dtype: object"
      ]
     },
     "metadata": {},
     "execution_count": 194
    }
   ],
   "metadata": {}
  },
  {
   "cell_type": "code",
   "execution_count": 195,
   "source": [
    "filter=data['Feedback score']==data['Feedback score'].max()\n",
    "hi_score=data[filter]\n",
    "print(hi_score['Destination'])"
   ],
   "outputs": [
    {
     "output_type": "stream",
     "name": "stdout",
     "text": [
      "5    France\n",
      "Name: Destination, dtype: object\n"
     ]
    }
   ],
   "metadata": {}
  },
  {
   "cell_type": "code",
   "execution_count": 196,
   "source": [
    "filter=data['Number of All-inclusive Hotels']>9\n",
    "data[filter]['Destination']"
   ],
   "outputs": [
    {
     "output_type": "execute_result",
     "data": {
      "text/plain": [
       "3     Thailand\n",
       "8        Spain\n",
       "10          US\n",
       "Name: Destination, dtype: object"
      ]
     },
     "metadata": {},
     "execution_count": 196
    }
   ],
   "metadata": {}
  },
  {
   "cell_type": "code",
   "execution_count": 197,
   "source": [
    "filter=data['Feedback score']>8\n",
    "data[filter]"
   ],
   "outputs": [
    {
     "output_type": "execute_result",
     "data": {
      "text/html": [
       "<div>\n",
       "<style scoped>\n",
       "    .dataframe tbody tr th:only-of-type {\n",
       "        vertical-align: middle;\n",
       "    }\n",
       "\n",
       "    .dataframe tbody tr th {\n",
       "        vertical-align: top;\n",
       "    }\n",
       "\n",
       "    .dataframe thead th {\n",
       "        text-align: right;\n",
       "    }\n",
       "</style>\n",
       "<table border=\"1\" class=\"dataframe\">\n",
       "  <thead>\n",
       "    <tr style=\"text-align: right;\">\n",
       "      <th></th>\n",
       "      <th>Destination</th>\n",
       "      <th>Feedback score</th>\n",
       "      <th>Average Hotel rating</th>\n",
       "      <th>Number of All-inclusive Hotels</th>\n",
       "      <th>Most visited city</th>\n",
       "    </tr>\n",
       "  </thead>\n",
       "  <tbody>\n",
       "    <tr>\n",
       "      <th>3</th>\n",
       "      <td>Thailand</td>\n",
       "      <td>8.5</td>\n",
       "      <td>4.5</td>\n",
       "      <td>10</td>\n",
       "      <td>Bangkok</td>\n",
       "    </tr>\n",
       "    <tr>\n",
       "      <th>5</th>\n",
       "      <td>France</td>\n",
       "      <td>9.0</td>\n",
       "      <td>2.2</td>\n",
       "      <td>4</td>\n",
       "      <td>Paris</td>\n",
       "    </tr>\n",
       "    <tr>\n",
       "      <th>13</th>\n",
       "      <td>South Africa</td>\n",
       "      <td>8.2</td>\n",
       "      <td>3.0</td>\n",
       "      <td>6</td>\n",
       "      <td>Cape Town</td>\n",
       "    </tr>\n",
       "  </tbody>\n",
       "</table>\n",
       "</div>"
      ],
      "text/plain": [
       "     Destination  Feedback score  Average Hotel rating  \\\n",
       "3       Thailand             8.5                   4.5   \n",
       "5         France             9.0                   2.2   \n",
       "13  South Africa             8.2                   3.0   \n",
       "\n",
       "    Number of All-inclusive Hotels Most visited city  \n",
       "3                               10           Bangkok  \n",
       "5                                4             Paris  \n",
       "13                               6         Cape Town  "
      ]
     },
     "metadata": {},
     "execution_count": 197
    }
   ],
   "metadata": {}
  },
  {
   "cell_type": "code",
   "execution_count": 198,
   "source": [
    "filter=data['Feedback score']<2\n",
    "data[filter]"
   ],
   "outputs": [
    {
     "output_type": "execute_result",
     "data": {
      "text/html": [
       "<div>\n",
       "<style scoped>\n",
       "    .dataframe tbody tr th:only-of-type {\n",
       "        vertical-align: middle;\n",
       "    }\n",
       "\n",
       "    .dataframe tbody tr th {\n",
       "        vertical-align: top;\n",
       "    }\n",
       "\n",
       "    .dataframe thead th {\n",
       "        text-align: right;\n",
       "    }\n",
       "</style>\n",
       "<table border=\"1\" class=\"dataframe\">\n",
       "  <thead>\n",
       "    <tr style=\"text-align: right;\">\n",
       "      <th></th>\n",
       "      <th>Destination</th>\n",
       "      <th>Feedback score</th>\n",
       "      <th>Average Hotel rating</th>\n",
       "      <th>Number of All-inclusive Hotels</th>\n",
       "      <th>Most visited city</th>\n",
       "    </tr>\n",
       "  </thead>\n",
       "  <tbody>\n",
       "  </tbody>\n",
       "</table>\n",
       "</div>"
      ],
      "text/plain": [
       "Empty DataFrame\n",
       "Columns: [Destination, Feedback score, Average Hotel rating, Number of All-inclusive Hotels, Most visited city]\n",
       "Index: []"
      ]
     },
     "metadata": {},
     "execution_count": 198
    }
   ],
   "metadata": {}
  },
  {
   "cell_type": "code",
   "execution_count": 199,
   "source": [
    "data.corr(method='pearson')"
   ],
   "outputs": [
    {
     "output_type": "execute_result",
     "data": {
      "text/html": [
       "<div>\n",
       "<style scoped>\n",
       "    .dataframe tbody tr th:only-of-type {\n",
       "        vertical-align: middle;\n",
       "    }\n",
       "\n",
       "    .dataframe tbody tr th {\n",
       "        vertical-align: top;\n",
       "    }\n",
       "\n",
       "    .dataframe thead th {\n",
       "        text-align: right;\n",
       "    }\n",
       "</style>\n",
       "<table border=\"1\" class=\"dataframe\">\n",
       "  <thead>\n",
       "    <tr style=\"text-align: right;\">\n",
       "      <th></th>\n",
       "      <th>Feedback score</th>\n",
       "      <th>Average Hotel rating</th>\n",
       "      <th>Number of All-inclusive Hotels</th>\n",
       "    </tr>\n",
       "  </thead>\n",
       "  <tbody>\n",
       "    <tr>\n",
       "      <th>Feedback score</th>\n",
       "      <td>1.000000</td>\n",
       "      <td>0.055015</td>\n",
       "      <td>-0.053616</td>\n",
       "    </tr>\n",
       "    <tr>\n",
       "      <th>Average Hotel rating</th>\n",
       "      <td>0.055015</td>\n",
       "      <td>1.000000</td>\n",
       "      <td>0.493630</td>\n",
       "    </tr>\n",
       "    <tr>\n",
       "      <th>Number of All-inclusive Hotels</th>\n",
       "      <td>-0.053616</td>\n",
       "      <td>0.493630</td>\n",
       "      <td>1.000000</td>\n",
       "    </tr>\n",
       "  </tbody>\n",
       "</table>\n",
       "</div>"
      ],
      "text/plain": [
       "                                Feedback score  Average Hotel rating  \\\n",
       "Feedback score                        1.000000              0.055015   \n",
       "Average Hotel rating                  0.055015              1.000000   \n",
       "Number of All-inclusive Hotels       -0.053616              0.493630   \n",
       "\n",
       "                                Number of All-inclusive Hotels  \n",
       "Feedback score                                       -0.053616  \n",
       "Average Hotel rating                                  0.493630  \n",
       "Number of All-inclusive Hotels                        1.000000  "
      ]
     },
     "metadata": {},
     "execution_count": 199
    }
   ],
   "metadata": {}
  },
  {
   "cell_type": "code",
   "execution_count": 200,
   "source": [
    "data.corr(method='spearman')"
   ],
   "outputs": [
    {
     "output_type": "execute_result",
     "data": {
      "text/html": [
       "<div>\n",
       "<style scoped>\n",
       "    .dataframe tbody tr th:only-of-type {\n",
       "        vertical-align: middle;\n",
       "    }\n",
       "\n",
       "    .dataframe tbody tr th {\n",
       "        vertical-align: top;\n",
       "    }\n",
       "\n",
       "    .dataframe thead th {\n",
       "        text-align: right;\n",
       "    }\n",
       "</style>\n",
       "<table border=\"1\" class=\"dataframe\">\n",
       "  <thead>\n",
       "    <tr style=\"text-align: right;\">\n",
       "      <th></th>\n",
       "      <th>Feedback score</th>\n",
       "      <th>Average Hotel rating</th>\n",
       "      <th>Number of All-inclusive Hotels</th>\n",
       "    </tr>\n",
       "  </thead>\n",
       "  <tbody>\n",
       "    <tr>\n",
       "      <th>Feedback score</th>\n",
       "      <td>1.000000</td>\n",
       "      <td>0.07713</td>\n",
       "      <td>-0.036069</td>\n",
       "    </tr>\n",
       "    <tr>\n",
       "      <th>Average Hotel rating</th>\n",
       "      <td>0.077130</td>\n",
       "      <td>1.00000</td>\n",
       "      <td>0.458640</td>\n",
       "    </tr>\n",
       "    <tr>\n",
       "      <th>Number of All-inclusive Hotels</th>\n",
       "      <td>-0.036069</td>\n",
       "      <td>0.45864</td>\n",
       "      <td>1.000000</td>\n",
       "    </tr>\n",
       "  </tbody>\n",
       "</table>\n",
       "</div>"
      ],
      "text/plain": [
       "                                Feedback score  Average Hotel rating  \\\n",
       "Feedback score                        1.000000               0.07713   \n",
       "Average Hotel rating                  0.077130               1.00000   \n",
       "Number of All-inclusive Hotels       -0.036069               0.45864   \n",
       "\n",
       "                                Number of All-inclusive Hotels  \n",
       "Feedback score                                       -0.036069  \n",
       "Average Hotel rating                                  0.458640  \n",
       "Number of All-inclusive Hotels                        1.000000  "
      ]
     },
     "metadata": {},
     "execution_count": 200
    }
   ],
   "metadata": {}
  },
  {
   "cell_type": "markdown",
   "source": [],
   "metadata": {}
  },
  {
   "cell_type": "code",
   "execution_count": 201,
   "source": [
    "filter=data['Feedback score']>7.5\n",
    "data[filter].plot.bar(x='Destination',y='Feedback score')"
   ],
   "outputs": [
    {
     "output_type": "execute_result",
     "data": {
      "text/plain": [
       "<AxesSubplot:xlabel='Destination'>"
      ]
     },
     "metadata": {},
     "execution_count": 201
    },
    {
     "output_type": "display_data",
     "data": {
      "image/png": "[encoded data removed]",
      "text/plain": [
       "<Figure size 432x288 with 1 Axes>"
      ]
     },
     "metadata": {
      "needs_background": "light"
     }
    }
   ],
   "metadata": {}
  },
  {
   "cell_type": "code",
   "execution_count": 202,
   "source": [
    "filter=data['Feedback score']>8.0\n",
    "bestdest=data[filter].drop(columns=['Most visited city'])\n",
    "bestdest.set_index('Destination').plot.bar()"
   ],
   "outputs": [
    {
     "output_type": "execute_result",
     "data": {
      "text/plain": [
       "<AxesSubplot:xlabel='Destination'>"
      ]
     },
     "metadata": {},
     "execution_count": 202
    },
    {
     "output_type": "display_data",
     "data": {
      "image/png": "[encoded data removed]",
      "text/plain": [
       "<Figure size 432x288 with 1 Axes>"
      ]
     },
     "metadata": {
      "needs_background": "light"
     }
    }
   ],
   "metadata": {}
  },
  {
   "cell_type": "code",
   "execution_count": null,
   "source": [],
   "outputs": [],
   "metadata": {}
  }
 ],
 "metadata": {
  "orig_nbformat": 4,
  "language_info": {
   "name": "python",
   "version": "3.9.0",
   "mimetype": "text/x-python",
   "codemirror_mode": {
    "name": "ipython",
    "version": 3
   },
   "pygments_lexer": "ipython3",
   "nbconvert_exporter": "python",
   "file_extension": ".py"
  },
  "kernelspec": {
   "name": "python3",
   "display_name": "Python 3.9.0 64-bit"
  },
  "interpreter": {
   "hash": "aee8b7b246df8f9039afb4144a1f6fd8d2ca17a180786b69acc140d282b71a49"
  }
 },
 "nbformat": 4,
 "nbformat_minor": 2
}